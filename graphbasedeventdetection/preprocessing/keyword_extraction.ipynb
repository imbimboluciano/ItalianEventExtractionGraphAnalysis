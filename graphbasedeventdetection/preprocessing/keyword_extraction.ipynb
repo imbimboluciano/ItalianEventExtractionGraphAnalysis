{
  "cells": [
    {
      "cell_type": "code",
      "execution_count": 1,
      "metadata": {
        "colab": {
          "base_uri": "https://localhost:8080/"
        },
        "id": "qGwgM7oUkteF",
        "outputId": "a5c3166f-50df-4c7e-a4b7-325c8c4b5dc8"
      },
      "outputs": [
        {
          "name": "stdout",
          "output_type": "stream",
          "text": [
            "Collecting it-core-news-lg==3.7.0\n",
            "  Downloading https://github.com/explosion/spacy-models/releases/download/it_core_news_lg-3.7.0/it_core_news_lg-3.7.0-py3-none-any.whl (567.9 MB)\n",
            "\u001b[2K     \u001b[90m━━━━━━━━━━━━━━━━━━━━━━━━━━━━━━━━━━━━━━━\u001b[0m \u001b[32m567.9/567.9 MB\u001b[0m \u001b[31m5.8 MB/s\u001b[0m eta \u001b[36m0:00:00\u001b[0m00:01\u001b[0m00:01\u001b[0m\n",
            "\u001b[?25hRequirement already satisfied: spacy<3.8.0,>=3.7.0 in /home/lucianoimbimbo/.local/share/virtualenvs/NLPGraphTwitterItalian-h65Wg-0E/lib/python3.12/site-packages (from it-core-news-lg==3.7.0) (3.7.6)\n",
            "Requirement already satisfied: spacy-legacy<3.1.0,>=3.0.11 in /home/lucianoimbimbo/.local/share/virtualenvs/NLPGraphTwitterItalian-h65Wg-0E/lib/python3.12/site-packages (from spacy<3.8.0,>=3.7.0->it-core-news-lg==3.7.0) (3.0.12)\n",
            "Requirement already satisfied: spacy-loggers<2.0.0,>=1.0.0 in /home/lucianoimbimbo/.local/share/virtualenvs/NLPGraphTwitterItalian-h65Wg-0E/lib/python3.12/site-packages (from spacy<3.8.0,>=3.7.0->it-core-news-lg==3.7.0) (1.0.5)\n",
            "Requirement already satisfied: murmurhash<1.1.0,>=0.28.0 in /home/lucianoimbimbo/.local/share/virtualenvs/NLPGraphTwitterItalian-h65Wg-0E/lib/python3.12/site-packages (from spacy<3.8.0,>=3.7.0->it-core-news-lg==3.7.0) (1.0.10)\n",
            "Requirement already satisfied: cymem<2.1.0,>=2.0.2 in /home/lucianoimbimbo/.local/share/virtualenvs/NLPGraphTwitterItalian-h65Wg-0E/lib/python3.12/site-packages (from spacy<3.8.0,>=3.7.0->it-core-news-lg==3.7.0) (2.0.8)\n",
            "Requirement already satisfied: preshed<3.1.0,>=3.0.2 in /home/lucianoimbimbo/.local/share/virtualenvs/NLPGraphTwitterItalian-h65Wg-0E/lib/python3.12/site-packages (from spacy<3.8.0,>=3.7.0->it-core-news-lg==3.7.0) (3.0.9)\n",
            "Requirement already satisfied: thinc<8.3.0,>=8.2.2 in /home/lucianoimbimbo/.local/share/virtualenvs/NLPGraphTwitterItalian-h65Wg-0E/lib/python3.12/site-packages (from spacy<3.8.0,>=3.7.0->it-core-news-lg==3.7.0) (8.2.5)\n",
            "Requirement already satisfied: wasabi<1.2.0,>=0.9.1 in /home/lucianoimbimbo/.local/share/virtualenvs/NLPGraphTwitterItalian-h65Wg-0E/lib/python3.12/site-packages (from spacy<3.8.0,>=3.7.0->it-core-news-lg==3.7.0) (1.1.3)\n",
            "Requirement already satisfied: srsly<3.0.0,>=2.4.3 in /home/lucianoimbimbo/.local/share/virtualenvs/NLPGraphTwitterItalian-h65Wg-0E/lib/python3.12/site-packages (from spacy<3.8.0,>=3.7.0->it-core-news-lg==3.7.0) (2.4.8)\n",
            "Requirement already satisfied: catalogue<2.1.0,>=2.0.6 in /home/lucianoimbimbo/.local/share/virtualenvs/NLPGraphTwitterItalian-h65Wg-0E/lib/python3.12/site-packages (from spacy<3.8.0,>=3.7.0->it-core-news-lg==3.7.0) (2.0.10)\n",
            "Requirement already satisfied: weasel<0.5.0,>=0.1.0 in /home/lucianoimbimbo/.local/share/virtualenvs/NLPGraphTwitterItalian-h65Wg-0E/lib/python3.12/site-packages (from spacy<3.8.0,>=3.7.0->it-core-news-lg==3.7.0) (0.4.1)\n",
            "Requirement already satisfied: typer<1.0.0,>=0.3.0 in /home/lucianoimbimbo/.local/share/virtualenvs/NLPGraphTwitterItalian-h65Wg-0E/lib/python3.12/site-packages (from spacy<3.8.0,>=3.7.0->it-core-news-lg==3.7.0) (0.12.5)\n",
            "Requirement already satisfied: tqdm<5.0.0,>=4.38.0 in /home/lucianoimbimbo/.local/share/virtualenvs/NLPGraphTwitterItalian-h65Wg-0E/lib/python3.12/site-packages (from spacy<3.8.0,>=3.7.0->it-core-news-lg==3.7.0) (4.66.5)\n",
            "Requirement already satisfied: requests<3.0.0,>=2.13.0 in /home/lucianoimbimbo/.local/share/virtualenvs/NLPGraphTwitterItalian-h65Wg-0E/lib/python3.12/site-packages (from spacy<3.8.0,>=3.7.0->it-core-news-lg==3.7.0) (2.32.3)\n",
            "Requirement already satisfied: pydantic!=1.8,!=1.8.1,<3.0.0,>=1.7.4 in /home/lucianoimbimbo/.local/share/virtualenvs/NLPGraphTwitterItalian-h65Wg-0E/lib/python3.12/site-packages (from spacy<3.8.0,>=3.7.0->it-core-news-lg==3.7.0) (2.8.2)\n",
            "Requirement already satisfied: jinja2 in /home/lucianoimbimbo/.local/share/virtualenvs/NLPGraphTwitterItalian-h65Wg-0E/lib/python3.12/site-packages (from spacy<3.8.0,>=3.7.0->it-core-news-lg==3.7.0) (3.1.4)\n",
            "Requirement already satisfied: setuptools in /home/lucianoimbimbo/.local/share/virtualenvs/NLPGraphTwitterItalian-h65Wg-0E/lib/python3.12/site-packages (from spacy<3.8.0,>=3.7.0->it-core-news-lg==3.7.0) (74.0.0)\n",
            "Requirement already satisfied: packaging>=20.0 in /home/lucianoimbimbo/.local/share/virtualenvs/NLPGraphTwitterItalian-h65Wg-0E/lib/python3.12/site-packages (from spacy<3.8.0,>=3.7.0->it-core-news-lg==3.7.0) (24.1)\n",
            "Requirement already satisfied: langcodes<4.0.0,>=3.2.0 in /home/lucianoimbimbo/.local/share/virtualenvs/NLPGraphTwitterItalian-h65Wg-0E/lib/python3.12/site-packages (from spacy<3.8.0,>=3.7.0->it-core-news-lg==3.7.0) (3.4.0)\n",
            "Requirement already satisfied: numpy>=1.19.0 in /home/lucianoimbimbo/.local/share/virtualenvs/NLPGraphTwitterItalian-h65Wg-0E/lib/python3.12/site-packages (from spacy<3.8.0,>=3.7.0->it-core-news-lg==3.7.0) (1.26.4)\n",
            "Requirement already satisfied: language-data>=1.2 in /home/lucianoimbimbo/.local/share/virtualenvs/NLPGraphTwitterItalian-h65Wg-0E/lib/python3.12/site-packages (from langcodes<4.0.0,>=3.2.0->spacy<3.8.0,>=3.7.0->it-core-news-lg==3.7.0) (1.2.0)\n",
            "Requirement already satisfied: annotated-types>=0.4.0 in /home/lucianoimbimbo/.local/share/virtualenvs/NLPGraphTwitterItalian-h65Wg-0E/lib/python3.12/site-packages (from pydantic!=1.8,!=1.8.1,<3.0.0,>=1.7.4->spacy<3.8.0,>=3.7.0->it-core-news-lg==3.7.0) (0.7.0)\n",
            "Requirement already satisfied: pydantic-core==2.20.1 in /home/lucianoimbimbo/.local/share/virtualenvs/NLPGraphTwitterItalian-h65Wg-0E/lib/python3.12/site-packages (from pydantic!=1.8,!=1.8.1,<3.0.0,>=1.7.4->spacy<3.8.0,>=3.7.0->it-core-news-lg==3.7.0) (2.20.1)\n",
            "Requirement already satisfied: typing-extensions>=4.6.1 in /home/lucianoimbimbo/.local/share/virtualenvs/NLPGraphTwitterItalian-h65Wg-0E/lib/python3.12/site-packages (from pydantic!=1.8,!=1.8.1,<3.0.0,>=1.7.4->spacy<3.8.0,>=3.7.0->it-core-news-lg==3.7.0) (4.12.2)\n",
            "Requirement already satisfied: charset-normalizer<4,>=2 in /home/lucianoimbimbo/.local/share/virtualenvs/NLPGraphTwitterItalian-h65Wg-0E/lib/python3.12/site-packages (from requests<3.0.0,>=2.13.0->spacy<3.8.0,>=3.7.0->it-core-news-lg==3.7.0) (3.3.2)\n",
            "Requirement already satisfied: idna<4,>=2.5 in /home/lucianoimbimbo/.local/share/virtualenvs/NLPGraphTwitterItalian-h65Wg-0E/lib/python3.12/site-packages (from requests<3.0.0,>=2.13.0->spacy<3.8.0,>=3.7.0->it-core-news-lg==3.7.0) (3.7)\n",
            "Requirement already satisfied: urllib3<3,>=1.21.1 in /home/lucianoimbimbo/.local/share/virtualenvs/NLPGraphTwitterItalian-h65Wg-0E/lib/python3.12/site-packages (from requests<3.0.0,>=2.13.0->spacy<3.8.0,>=3.7.0->it-core-news-lg==3.7.0) (2.2.2)\n",
            "Requirement already satisfied: certifi>=2017.4.17 in /home/lucianoimbimbo/.local/share/virtualenvs/NLPGraphTwitterItalian-h65Wg-0E/lib/python3.12/site-packages (from requests<3.0.0,>=2.13.0->spacy<3.8.0,>=3.7.0->it-core-news-lg==3.7.0) (2024.7.4)\n",
            "Requirement already satisfied: blis<0.8.0,>=0.7.8 in /home/lucianoimbimbo/.local/share/virtualenvs/NLPGraphTwitterItalian-h65Wg-0E/lib/python3.12/site-packages (from thinc<8.3.0,>=8.2.2->spacy<3.8.0,>=3.7.0->it-core-news-lg==3.7.0) (0.7.11)\n",
            "Requirement already satisfied: confection<1.0.0,>=0.0.1 in /home/lucianoimbimbo/.local/share/virtualenvs/NLPGraphTwitterItalian-h65Wg-0E/lib/python3.12/site-packages (from thinc<8.3.0,>=8.2.2->spacy<3.8.0,>=3.7.0->it-core-news-lg==3.7.0) (0.1.5)\n",
            "Requirement already satisfied: click>=8.0.0 in /home/lucianoimbimbo/.local/share/virtualenvs/NLPGraphTwitterItalian-h65Wg-0E/lib/python3.12/site-packages (from typer<1.0.0,>=0.3.0->spacy<3.8.0,>=3.7.0->it-core-news-lg==3.7.0) (8.1.7)\n",
            "Requirement already satisfied: shellingham>=1.3.0 in /home/lucianoimbimbo/.local/share/virtualenvs/NLPGraphTwitterItalian-h65Wg-0E/lib/python3.12/site-packages (from typer<1.0.0,>=0.3.0->spacy<3.8.0,>=3.7.0->it-core-news-lg==3.7.0) (1.5.4)\n",
            "Requirement already satisfied: rich>=10.11.0 in /home/lucianoimbimbo/.local/share/virtualenvs/NLPGraphTwitterItalian-h65Wg-0E/lib/python3.12/site-packages (from typer<1.0.0,>=0.3.0->spacy<3.8.0,>=3.7.0->it-core-news-lg==3.7.0) (13.8.0)\n",
            "Requirement already satisfied: cloudpathlib<1.0.0,>=0.7.0 in /home/lucianoimbimbo/.local/share/virtualenvs/NLPGraphTwitterItalian-h65Wg-0E/lib/python3.12/site-packages (from weasel<0.5.0,>=0.1.0->spacy<3.8.0,>=3.7.0->it-core-news-lg==3.7.0) (0.18.1)\n",
            "Requirement already satisfied: smart-open<8.0.0,>=5.2.1 in /home/lucianoimbimbo/.local/share/virtualenvs/NLPGraphTwitterItalian-h65Wg-0E/lib/python3.12/site-packages (from weasel<0.5.0,>=0.1.0->spacy<3.8.0,>=3.7.0->it-core-news-lg==3.7.0) (7.0.4)\n",
            "Requirement already satisfied: MarkupSafe>=2.0 in /home/lucianoimbimbo/.local/share/virtualenvs/NLPGraphTwitterItalian-h65Wg-0E/lib/python3.12/site-packages (from jinja2->spacy<3.8.0,>=3.7.0->it-core-news-lg==3.7.0) (2.1.5)\n",
            "Requirement already satisfied: marisa-trie>=0.7.7 in /home/lucianoimbimbo/.local/share/virtualenvs/NLPGraphTwitterItalian-h65Wg-0E/lib/python3.12/site-packages (from language-data>=1.2->langcodes<4.0.0,>=3.2.0->spacy<3.8.0,>=3.7.0->it-core-news-lg==3.7.0) (1.2.0)\n",
            "Requirement already satisfied: markdown-it-py>=2.2.0 in /home/lucianoimbimbo/.local/share/virtualenvs/NLPGraphTwitterItalian-h65Wg-0E/lib/python3.12/site-packages (from rich>=10.11.0->typer<1.0.0,>=0.3.0->spacy<3.8.0,>=3.7.0->it-core-news-lg==3.7.0) (3.0.0)\n",
            "Requirement already satisfied: pygments<3.0.0,>=2.13.0 in /home/lucianoimbimbo/.local/share/virtualenvs/NLPGraphTwitterItalian-h65Wg-0E/lib/python3.12/site-packages (from rich>=10.11.0->typer<1.0.0,>=0.3.0->spacy<3.8.0,>=3.7.0->it-core-news-lg==3.7.0) (2.18.0)\n",
            "Requirement already satisfied: wrapt in /home/lucianoimbimbo/.local/share/virtualenvs/NLPGraphTwitterItalian-h65Wg-0E/lib/python3.12/site-packages (from smart-open<8.0.0,>=5.2.1->weasel<0.5.0,>=0.1.0->spacy<3.8.0,>=3.7.0->it-core-news-lg==3.7.0) (1.16.0)\n",
            "Requirement already satisfied: mdurl~=0.1 in /home/lucianoimbimbo/.local/share/virtualenvs/NLPGraphTwitterItalian-h65Wg-0E/lib/python3.12/site-packages (from markdown-it-py>=2.2.0->rich>=10.11.0->typer<1.0.0,>=0.3.0->spacy<3.8.0,>=3.7.0->it-core-news-lg==3.7.0) (0.1.2)\n",
            "Installing collected packages: it-core-news-lg\n",
            "Successfully installed it-core-news-lg-3.7.0\n",
            "\n",
            "\u001b[1m[\u001b[0m\u001b[34;49mnotice\u001b[0m\u001b[1;39;49m]\u001b[0m\u001b[39;49m A new release of pip is available: \u001b[0m\u001b[31;49m24.1.2\u001b[0m\u001b[39;49m -> \u001b[0m\u001b[32;49m24.2\u001b[0m\n",
            "\u001b[1m[\u001b[0m\u001b[34;49mnotice\u001b[0m\u001b[1;39;49m]\u001b[0m\u001b[39;49m To update, run: \u001b[0m\u001b[32;49mpip install --upgrade pip\u001b[0m\n",
            "\u001b[38;5;2m✔ Download and installation successful\u001b[0m\n",
            "You can now load the package via spacy.load('it_core_news_lg')\n"
          ]
        }
      ],
      "source": [
        "#!python -m spacy download en_core_web_trf\n",
        "!python -m spacy download it_core_news_lg"
      ]
    },
    {
      "cell_type": "code",
      "execution_count": 3,
      "metadata": {
        "id": "N95AockhjfcH"
      },
      "outputs": [],
      "source": [
        "import pandas as pd\n",
        "import pathlib\n",
        "import re\n",
        "import nltk\n",
        "import spacy\n",
        "from nltk.corpus import stopwords\n",
        "from nltk.tokenize import word_tokenize\n",
        "from collections import Counter\n",
        "from string import punctuation"
      ]
    },
    {
      "cell_type": "code",
      "execution_count": 4,
      "metadata": {
        "id": "CCwShlZtjmbg"
      },
      "outputs": [],
      "source": [
        "def remove_special_chars_and_urls(text):\n",
        "\n",
        "    text = re.sub(r'http\\S+|www\\S+|https\\S+', '', text, flags=re.MULTILINE)\n",
        "    text = re.sub(r'[@#$%^&*()_+=\\[\\]{}|\\\\<>/~`]', '', text)\n",
        "    text = re.sub(r'[^\\w\\s.,\\'\"!?]', '', text)\n",
        "    return text.strip()"
      ]
    },
    {
      "cell_type": "code",
      "execution_count": 5,
      "metadata": {
        "id": "0S_iHVmQjpOB"
      },
      "outputs": [],
      "source": [
        "def remove_stop_words(text):\n",
        "\n",
        "    stop_words = set(stopwords.words('italian'))\n",
        "    word_tokens = word_tokenize(text)\n",
        "    filtered_sentence = [w for w in word_tokens if not w in stop_words]\n",
        "\n",
        "    return ' '.join(filtered_sentence)"
      ]
    },
    {
      "cell_type": "code",
      "execution_count": 6,
      "metadata": {
        "id": "1vvn31sRjrxw"
      },
      "outputs": [],
      "source": [
        "def extract_keyword(text):\n",
        "\n",
        "    pos_tag = ['ADJ', 'NOUN']\n",
        "    nlp = spacy.load(\"it_core_news_lg\")\n",
        "    #nlp = spacy.load(\"en_core_web_trf\")\n",
        "    doc = nlp(text.lower())\n",
        "    keywords = [w.text for w in doc if w.pos_ in pos_tag]\n",
        "    return ','.join(keywords)"
      ]
    },
    {
      "cell_type": "code",
      "execution_count": 7,
      "metadata": {
        "id": "Gwd0gGIjjugm"
      },
      "outputs": [],
      "source": [
        "def cleaning_data(df):\n",
        "\n",
        "    df.drop_duplicates()\n",
        "    tweets = df['full_text']\n",
        "    tweets = tweets.apply(remove_special_chars_and_urls)\n",
        "\n",
        "    return tweets"
      ]
    },
    {
      "cell_type": "code",
      "execution_count": 8,
      "metadata": {
        "id": "1oXzi6bZjw1k"
      },
      "outputs": [],
      "source": [
        "def keyword_extraction(tweets):\n",
        "\n",
        "\n",
        "    tweets = tweets.apply(remove_stop_words)\n",
        "    tweets = tweets.apply(extract_keyword)\n",
        "\n",
        "    return tweets"
      ]
    },
    {
      "cell_type": "code",
      "execution_count": 10,
      "metadata": {
        "colab": {
          "base_uri": "https://localhost:8080/"
        },
        "id": "qL1oU2IPjyTB",
        "outputId": "0a4ce9a4-42bd-40d9-d1b6-cfa7e2833f95"
      },
      "outputs": [
        {
          "name": "stderr",
          "output_type": "stream",
          "text": [
            "[nltk_data] Downloading package punkt to\n",
            "[nltk_data]     /home/lucianoimbimbo/nltk_data...\n",
            "[nltk_data]   Unzipping tokenizers/punkt.zip.\n",
            "[nltk_data] Downloading package stopwords to\n",
            "[nltk_data]     /home/lucianoimbimbo/nltk_data...\n",
            "[nltk_data]   Unzipping corpora/stopwords.zip.\n",
            "[nltk_data] Downloading package punkt_tab to\n",
            "[nltk_data]     /home/lucianoimbimbo/nltk_data...\n",
            "[nltk_data]   Unzipping tokenizers/punkt_tab.zip.\n"
          ]
        }
      ],
      "source": [
        "if __name__ == \"__main__\":\n",
        "\n",
        "    dataset_path = \"../dataset/italian_tweets.csv\"\n",
        "    #dataset_path = \"dataset/english_tweets.csv\"\n",
        "    dataset = pd.read_csv(dataset_path, sep=';')\n",
        "    cleaned_tweets = cleaning_data(dataset)\n",
        "\n",
        "    nltk.download('punkt')\n",
        "    nltk.download('stopwords')\n",
        "    nltk.download('punkt_tab')\n",
        "\n",
        "    keyword_tweets = keyword_extraction(cleaned_tweets)\n",
        "    keyword_tweets.name = 'keyword'\n",
        "    keyword_dataset = pd.concat([dataset, keyword_tweets], axis=1)\n",
        "    keyword_dataset.to_csv('dataset/keyword_italian_tweets.csv',sep=';')"
      ]
    }
  ],
  "metadata": {
    "colab": {
      "provenance": []
    },
    "kernelspec": {
      "display_name": "Python 3",
      "name": "python3"
    },
    "language_info": {
      "codemirror_mode": {
        "name": "ipython",
        "version": 3
      },
      "file_extension": ".py",
      "mimetype": "text/x-python",
      "name": "python",
      "nbconvert_exporter": "python",
      "pygments_lexer": "ipython3",
      "version": "3.12.4"
    }
  },
  "nbformat": 4,
  "nbformat_minor": 0
}
